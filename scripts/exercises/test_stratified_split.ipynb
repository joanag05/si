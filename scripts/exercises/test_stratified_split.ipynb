from si.data.dataset import Dataset
from si.io.csv_file import read_csv, write_csv
from si.model_selection.split import stratified_train_test_split, train_test_split
from collections import Counter