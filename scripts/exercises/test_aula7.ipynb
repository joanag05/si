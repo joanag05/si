{
 "cells": [
  {
   "cell_type": "code",
   "execution_count": null,
   "metadata": {},
   "outputs": [],
   "source": []
  },
  {
   "cell_type": "markdown",
   "metadata": {},
   "source": [
    "### Voting Classifier"
   ]
  },
  {
   "cell_type": "code",
   "execution_count": null,
   "metadata": {},
   "outputs": [],
   "source": [
    "from si.io.csv_file import read_csv\n",
    "from si.model_selection.split import train_test_split\n",
    "from si.models.knn_classifier import KNNClassifier\n",
    "from si.models.logistic_regression import LogisticRegression\n",
    "from si.models.decision_tree_classifier import DecisionTreeClassifier\n",
    "from si.ensemble.voting_classifier import VotingClassifier\n",
    "from si.model_selection.cross_validation import k_fold_cross_validation\n",
    "from si.model_selection.grid_search import grid_search_cv\n",
    "from si.model_selection.randomized_search import randomized_search_cv\n",
    "import numpy as np"
   ]
  },
  {
   "cell_type": "code",
   "execution_count": 1,
   "metadata": {},
   "outputs": [
    {
     "ename": "NameError",
     "evalue": "name 'read_csv' is not defined",
     "output_type": "error",
     "traceback": [
      "\u001b[1;31m---------------------------------------------------------------------------\u001b[0m",
      "\u001b[1;31mNameError\u001b[0m                                 Traceback (most recent call last)",
      "\u001b[1;32m~\\AppData\\Local\\Temp\\ipykernel_13004\\2990158065.py\u001b[0m in \u001b[0;36m<module>\u001b[1;34m\u001b[0m\n\u001b[0;32m      1\u001b[0m \u001b[0mdata\u001b[0m \u001b[1;33m=\u001b[0m \u001b[1;34mr'C:\\Users\\joana\\OneDrive\\Documentos\\GitHub\\si\\datasets\\breast_bin\\breast-bin.csv'\u001b[0m\u001b[1;33m\u001b[0m\u001b[1;33m\u001b[0m\u001b[0m\n\u001b[1;32m----> 2\u001b[1;33m \u001b[0mbreast_bin\u001b[0m \u001b[1;33m=\u001b[0m \u001b[0mread_csv\u001b[0m\u001b[1;33m(\u001b[0m\u001b[0mdata\u001b[0m\u001b[1;33m,\u001b[0m \u001b[0mfeatures\u001b[0m\u001b[1;33m=\u001b[0m\u001b[1;32mFalse\u001b[0m\u001b[1;33m,\u001b[0m \u001b[0mlabel\u001b[0m\u001b[1;33m=\u001b[0m\u001b[1;32mTrue\u001b[0m\u001b[1;33m)\u001b[0m\u001b[1;33m\u001b[0m\u001b[1;33m\u001b[0m\u001b[0m\n\u001b[0m",
      "\u001b[1;31mNameError\u001b[0m: name 'read_csv' is not defined"
     ]
    }
   ],
   "source": [
    "\n",
    "data = r'C:\\Users\\joana\\OneDrive\\Documentos\\GitHub\\si\\datasets\\breast_bin\\breast-bin.csv'\n",
    "breast_bin = read_csv(data, features=False, label=True)"
   ]
  },
  {
   "cell_type": "code",
   "execution_count": null,
   "metadata": {},
   "outputs": [],
   "source": [
    "train_dataset, test_dataset = train_test_split(breast_bin, test_size=0.2, random_state=0)"
   ]
  },
  {
   "cell_type": "code",
   "execution_count": null,
   "metadata": {},
   "outputs": [],
   "source": [
    "knn_model = KNNClassifier(k=3)\n",
    "\n",
    "log_model = LogisticRegression()\n",
    "\n",
    "DT_model = DecisionTreeClassifier()"
   ]
  },
  {
   "cell_type": "code",
   "execution_count": null,
   "metadata": {},
   "outputs": [],
   "source": [
    "voting = VotingClassifier([knn_model, log_model, DT_model])\n",
    "\n",
    "voting.fit(train_dataset)"
   ]
  },
  {
   "cell_type": "code",
   "execution_count": null,
   "metadata": {},
   "outputs": [],
   "source": [
    "print('Predict:', voting.predict(test_dataset))\n",
    "print('Score', voting.score(test_dataset))"
   ]
  },
  {
   "cell_type": "markdown",
   "metadata": {},
   "source": [
    "### StackingClassifier"
   ]
  },
  {
   "cell_type": "code",
   "execution_count": null,
   "metadata": {},
   "outputs": [],
   "source": [
    "from si.io.csv_file import read_csv\n",
    "from si.model_selection.split import stratified_train_test_split\n",
    "from si.models.knn_classifier import KNNClassifier\n",
    "from si.models.logistic_regression import LogisticRegression\n",
    "from si.models.decision_tree_classifier import DecisionTreeClassifier\n",
    "from si.ensemble.stacking_classifier import StackingClassifier"
   ]
  },
  {
   "cell_type": "code",
   "execution_count": null,
   "metadata": {},
   "outputs": [],
   "source": [
    "data = r'C:\\Users\\joana\\OneDrive\\Documentos\\GitHub\\si\\datasets\\breast_bin\\breast-bin.csv'\n",
    "breast_bin = read_csv(data, features=False, label=True)"
   ]
  },
  {
   "cell_type": "code",
   "execution_count": null,
   "metadata": {},
   "outputs": [],
   "source": [
    "train_dataseta, test_dataset = train_test_split(breast_bin, test_size=0.2, random_state=0)"
   ]
  },
  {
   "cell_type": "code",
   "execution_count": null,
   "metadata": {},
   "outputs": [],
   "source": [
    "\n",
    "knn = KNNClassifier(k=3)"
   ]
  },
  {
   "cell_type": "code",
   "execution_count": null,
   "metadata": {},
   "outputs": [],
   "source": [
    "\n",
    "LG=LogisticRegression(l2_penalty=1, alpha=0.001, max_iter=1000)"
   ]
  },
  {
   "cell_type": "code",
   "execution_count": null,
   "metadata": {},
   "outputs": [],
   "source": [
    "\n",
    "DT=DecisionTreeClassifier(min_sample_split=3, max_depth=3, mode='gini')"
   ]
  },
  {
   "cell_type": "code",
   "execution_count": null,
   "metadata": {},
   "outputs": [],
   "source": [
    "\n",
    "model=knn\n",
    "modelos=[knn,LG,DT]\n",
    "exercise=StackingClassifier(modelos,model)\n",
    "exercise.fit(train_dataset)\n",
    "print(exercise.score(test_dataset))"
   ]
  },
  {
   "cell_type": "markdown",
   "metadata": {},
   "source": [
    "### Cross Validation"
   ]
  },
  {
   "cell_type": "code",
   "execution_count": null,
   "metadata": {},
   "outputs": [],
   "source": [
    "model = LogisticRegression()\n",
    "\n",
    "np.random.seed(42)\n",
    "\n",
    "\n",
    "scores = k_fold_cross_validation(model, breast_bin, cv=5)  # cv=5 means 5-fold cross-validation\n",
    "\n",
    "print(\"Scores for each fold:\", scores)\n",
    "\n",
    "# Calculate and print the mean and standard deviation of scores\n",
    "print(f\"Mean score: {np.mean(scores)} +/- {np.std(scores)}\")"
   ]
  },
  {
   "cell_type": "markdown",
   "metadata": {},
   "source": [
    "### Grid Search"
   ]
  },
  {
   "cell_type": "code",
   "execution_count": null,
   "metadata": {},
   "outputs": [],
   "source": [
    "model = LogisticRegression()\n",
    "\n",
    "# Define the parameter grid for grid search\n",
    "parameter_grid = {\n",
    "    'penalty': ['l2'],  \n",
    "    'C': [0.1, 1.0, 10.0],  \n",
    "    'max_iter': [500, 1000, 1500] \n",
    "}\n",
    "\n",
    "# Perform grid search with cross-validation\n",
    "grid_search = grid_search_cv(model, breast_bin,  param_grid=parameter_grid, cv=3)\n",
    "\n",
    "\n",
    "\n",
    "print(grid_search)\n",
    "\n",
    "print(grid_search[\"scores\"])\n",
    "\n",
    "print(grid_search['best_score'])"
   ]
  },
  {
   "cell_type": "markdown",
   "metadata": {},
   "source": [
    "### Randomized Search"
   ]
  },
  {
   "cell_type": "code",
   "execution_count": null,
   "metadata": {},
   "outputs": [],
   "source": [
    "model = LogisticRegression()\n",
    "parameter_grid_ = {\n",
    "        'l2_penalty':['l2'],\n",
    "        'alpha':  np.linspace(1, 10, 10),\n",
    "        'max_iter': np.linspace(1000, 2000, 200)\n",
    "    }\n",
    "randomized_search = randomized_search_cv(model,\n",
    "                          breast_bin,\n",
    "                          hyperparameter_grid=parameter_grid_,\n",
    "                          cv=3,\n",
    "                          n_iter=100)\n",
    "\n",
    "print(randomized_search)\n",
    "\n",
    "\n",
    "print(randomized_search[\"scores\"])\n",
    "\n",
    "print(randomized_search['best_score'])"
   ]
  }
 ],
 "metadata": {
  "kernelspec": {
   "display_name": "si",
   "language": "python",
   "name": "python3"
  },
  "language_info": {
   "codemirror_mode": {
    "name": "ipython",
    "version": 3
   },
   "file_extension": ".py",
   "mimetype": "text/x-python",
   "name": "python",
   "nbconvert_exporter": "python",
   "pygments_lexer": "ipython3",
   "version": "3.7.16"
  }
 },
 "nbformat": 4,
 "nbformat_minor": 2
}
