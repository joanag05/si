def test_manhattan():
    # Test case 1
    point1 = (0, 0)
    point2 = (3, 4)
    expected_distance = 7
    assert manhattan(point1, point2) == expected_distance, "Test case 1 failed"

    # Test case 2
    point1 = (-1, -1)
    point2 = (2, 3)
    expected_distance = 7
    assert manhattan(point1, point2) == expected_distance, "Test case 2 failed"

    # Test case 3
    point1 = (0, 0)
    point2 = (0, 0)
    expected_distance = 0
    assert manhattan(point1, point2) == expected_distance, "Test case 3 failed"

    # Test case 4
    point1 = (10, 10)
    point2 = (10, 10)
    expected_distance = 0
    assert manhattan(point1, point2) == expected_distance, "Test case 4 failed"

    print("All test cases passed!")

test_manhattan()